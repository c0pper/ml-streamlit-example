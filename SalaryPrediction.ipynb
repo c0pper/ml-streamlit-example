{
 "cells": [
  {
   "cell_type": "code",
   "execution_count": 1,
   "id": "8b11fd46",
   "metadata": {},
   "outputs": [],
   "source": [
    "import pandas as pd\n",
    "import matplotlib.pyplot as plt\n",
    "\n",
    "df = pd.read_csv(\"riplorenzo_clean.csv\")"
   ]
  },
  {
   "cell_type": "code",
   "execution_count": 2,
   "id": "0a94c801",
   "metadata": {},
   "outputs": [
    {
     "data": {
      "text/html": [
       "<div>\n",
       "<style scoped>\n",
       "    .dataframe tbody tr th:only-of-type {\n",
       "        vertical-align: middle;\n",
       "    }\n",
       "\n",
       "    .dataframe tbody tr th {\n",
       "        vertical-align: top;\n",
       "    }\n",
       "\n",
       "    .dataframe thead th {\n",
       "        text-align: right;\n",
       "    }\n",
       "</style>\n",
       "<table border=\"1\" class=\"dataframe\">\n",
       "  <thead>\n",
       "    <tr style=\"text-align: right;\">\n",
       "      <th></th>\n",
       "      <th>text</th>\n",
       "      <th>from</th>\n",
       "    </tr>\n",
       "  </thead>\n",
       "  <tbody>\n",
       "    <tr>\n",
       "      <th>0</th>\n",
       "      <td>?</td>\n",
       "      <td>Martin</td>\n",
       "    </tr>\n",
       "    <tr>\n",
       "      <th>1</th>\n",
       "      <td>Volevo fa na prova</td>\n",
       "      <td>Giuseppe Perrotta</td>\n",
       "    </tr>\n",
       "    <tr>\n",
       "      <th>2</th>\n",
       "      <td>Se cambia il nome utente</td>\n",
       "      <td>Giuseppe Perrotta</td>\n",
       "    </tr>\n",
       "    <tr>\n",
       "      <th>3</th>\n",
       "      <td>sono sempre io</td>\n",
       "      <td>Martin</td>\n",
       "    </tr>\n",
       "    <tr>\n",
       "      <th>4</th>\n",
       "      <td>maurizio valitutto</td>\n",
       "      <td>Martin</td>\n",
       "    </tr>\n",
       "  </tbody>\n",
       "</table>\n",
       "</div>"
      ],
      "text/plain": [
       "                       text               from\n",
       "0                         ?             Martin\n",
       "1        Volevo fa na prova  Giuseppe Perrotta\n",
       "2  Se cambia il nome utente  Giuseppe Perrotta\n",
       "3            sono sempre io             Martin\n",
       "4        maurizio valitutto             Martin"
      ]
     },
     "execution_count": 2,
     "metadata": {},
     "output_type": "execute_result"
    }
   ],
   "source": [
    "df.head()"
   ]
  },
  {
   "cell_type": "code",
   "execution_count": 3,
   "id": "e2d06616",
   "metadata": {},
   "outputs": [],
   "source": [
    "df = df[df[\"text\"].notnull()]"
   ]
  },
  {
   "cell_type": "code",
   "execution_count": 4,
   "id": "d1c42755",
   "metadata": {},
   "outputs": [
    {
     "name": "stdout",
     "output_type": "stream",
     "text": [
      "<class 'pandas.core.frame.DataFrame'>\n",
      "Int64Index: 71594 entries, 0 to 71593\n",
      "Data columns (total 2 columns):\n",
      " #   Column  Non-Null Count  Dtype \n",
      "---  ------  --------------  ----- \n",
      " 0   text    71594 non-null  object\n",
      " 1   from    71594 non-null  object\n",
      "dtypes: object(2)\n",
      "memory usage: 1.6+ MB\n"
     ]
    }
   ],
   "source": [
    "df.info()"
   ]
  },
  {
   "cell_type": "code",
   "execution_count": 5,
   "id": "2a3c1906",
   "metadata": {},
   "outputs": [
    {
     "data": {
      "text/html": [
       "<div>\n",
       "<style scoped>\n",
       "    .dataframe tbody tr th:only-of-type {\n",
       "        vertical-align: middle;\n",
       "    }\n",
       "\n",
       "    .dataframe tbody tr th {\n",
       "        vertical-align: top;\n",
       "    }\n",
       "\n",
       "    .dataframe thead th {\n",
       "        text-align: right;\n",
       "    }\n",
       "</style>\n",
       "<table border=\"1\" class=\"dataframe\">\n",
       "  <thead>\n",
       "    <tr style=\"text-align: right;\">\n",
       "      <th></th>\n",
       "      <th>text</th>\n",
       "      <th>from</th>\n",
       "    </tr>\n",
       "  </thead>\n",
       "  <tbody>\n",
       "    <tr>\n",
       "      <th>count</th>\n",
       "      <td>71594</td>\n",
       "      <td>71594</td>\n",
       "    </tr>\n",
       "    <tr>\n",
       "      <th>unique</th>\n",
       "      <td>59753</td>\n",
       "      <td>5</td>\n",
       "    </tr>\n",
       "    <tr>\n",
       "      <th>top</th>\n",
       "      <td>Hahaha</td>\n",
       "      <td>Giuseppe Perrotta</td>\n",
       "    </tr>\n",
       "    <tr>\n",
       "      <th>freq</th>\n",
       "      <td>423</td>\n",
       "      <td>33091</td>\n",
       "    </tr>\n",
       "  </tbody>\n",
       "</table>\n",
       "</div>"
      ],
      "text/plain": [
       "          text               from\n",
       "count    71594              71594\n",
       "unique   59753                  5\n",
       "top     Hahaha  Giuseppe Perrotta\n",
       "freq       423              33091"
      ]
     },
     "execution_count": 5,
     "metadata": {},
     "output_type": "execute_result"
    }
   ],
   "source": [
    "df.describe()"
   ]
  },
  {
   "cell_type": "code",
   "execution_count": 6,
   "id": "7e028ba2",
   "metadata": {},
   "outputs": [
    {
     "data": {
      "text/plain": [
       "text    0\n",
       "from    0\n",
       "dtype: int64"
      ]
     },
     "execution_count": 6,
     "metadata": {},
     "output_type": "execute_result"
    }
   ],
   "source": [
    "df.isnull().sum()"
   ]
  },
  {
   "cell_type": "code",
   "execution_count": 7,
   "id": "c1c2b6f7",
   "metadata": {},
   "outputs": [
    {
     "data": {
      "text/plain": [
       "text    0\n",
       "from    0\n",
       "dtype: int64"
      ]
     },
     "execution_count": 7,
     "metadata": {},
     "output_type": "execute_result"
    }
   ],
   "source": [
    "df = df.dropna()\n",
    "df.isnull().sum()"
   ]
  },
  {
   "cell_type": "code",
   "execution_count": 8,
   "id": "c551ab05",
   "metadata": {},
   "outputs": [
    {
     "data": {
      "text/plain": [
       "Giuseppe Perrotta        33091\n",
       "Ambrogio Delle Chiaie    18857\n",
       "Martin                    8968\n",
       "Ciro Vitiello             5435\n",
       "Lorenzo Valitutto         5243\n",
       "Name: from, dtype: int64"
      ]
     },
     "execution_count": 8,
     "metadata": {},
     "output_type": "execute_result"
    }
   ],
   "source": [
    "df['from'].value_counts()"
   ]
  },
  {
   "cell_type": "code",
   "execution_count": 9,
   "id": "ab6632ff",
   "metadata": {},
   "outputs": [],
   "source": [
    "df[\"textlen\"] = df[\"text\"].apply(lambda x: len(x))"
   ]
  },
  {
   "cell_type": "code",
   "execution_count": 10,
   "id": "03a7116f",
   "metadata": {},
   "outputs": [
    {
     "data": {
      "image/png": "[encoded data removed]",
      "text/plain": [
       "<Figure size 864x504 with 1 Axes>"
      ]
     },
     "metadata": {
      "needs_background": "light"
     },
     "output_type": "display_data"
    }
   ],
   "source": [
    "fig, ax = plt.subplots(1,1, figsize=(12, 7))\n",
    "df.boxplot('textlen', 'from', ax=ax)\n",
    "plt.suptitle('Text lenight vs Person')\n",
    "plt.title('')\n",
    "plt.ylabel('textLen')\n",
    "plt.xticks(rotation=90)\n",
    "plt.show()"
   ]
  },
  {
   "cell_type": "code",
   "execution_count": 11,
   "id": "29b6b862",
   "metadata": {},
   "outputs": [],
   "source": [
    "df = df[df[\"textlen\"] <= 1000]\n",
    "df = df[df[\"textlen\"] >= 10]"
   ]
  },
  {
   "cell_type": "code",
   "execution_count": 12,
   "id": "55a797dd",
   "metadata": {},
   "outputs": [
    {
     "data": {
      "text/plain": [
       "Giuseppe Perrotta        27187\n",
       "Ambrogio Delle Chiaie    15487\n",
       "Martin                    6852\n",
       "Lorenzo Valitutto         4301\n",
       "Ciro Vitiello             4189\n",
       "Name: from, dtype: int64"
      ]
     },
     "execution_count": 12,
     "metadata": {},
     "output_type": "execute_result"
    }
   ],
   "source": [
    "df['from'].value_counts()"
   ]
  },
  {
   "cell_type": "code",
   "execution_count": 13,
   "id": "ca55b532",
   "metadata": {},
   "outputs": [
    {
     "data": {
      "image/png": "[encoded data removed]",
      "text/plain": [
       "<Figure size 864x504 with 1 Axes>"
      ]
     },
     "metadata": {
      "needs_background": "light"
     },
     "output_type": "display_data"
    }
   ],
   "source": [
    "fig, ax = plt.subplots(1,1, figsize=(12, 7))\n",
    "df.boxplot('textlen', 'from', ax=ax)\n",
    "plt.suptitle('Text lenight vs Person')\n",
    "plt.title('')\n",
    "plt.ylabel('Lunghezza testo')\n",
    "plt.xticks(rotation=90)\n",
    "plt.show()\n",
    "fig.savefig('foo.png')"
   ]
  },
  {
   "cell_type": "code",
   "execution_count": 14,
   "id": "44133118",
   "metadata": {},
   "outputs": [],
   "source": [
    "random_state = 420\n",
    "nsamples = 4500\n",
    "df_peppe = df[df[\"from\"] == \"Giuseppe Perrotta\"].sample(nsamples, random_state=random_state)\n",
    "df_ambrogio = df[df[\"from\"] == \"Ambrogio Delle Chiaie\"].sample(nsamples, random_state=random_state)\n",
    "df_martin = df[df[\"from\"] == \"Martin\"].sample(nsamples, random_state=random_state)\n",
    "\n"
   ]
  },
  {
   "cell_type": "code",
   "execution_count": 15,
   "id": "216e9e98",
   "metadata": {},
   "outputs": [],
   "source": [
    "df = pd.concat([df_peppe, df_martin, df_ambrogio, df[df[\"from\"] == \"Ciro Vitiello\"], df[df[\"from\"] == \"Lorenzo Valitutto\"]])"
   ]
  },
  {
   "cell_type": "code",
   "execution_count": 37,
   "id": "c8594052",
   "metadata": {},
   "outputs": [
    {
     "data": {
      "text/plain": [
       "Giuseppe Perrotta        4500\n",
       "Martin                   4500\n",
       "Ambrogio Delle Chiaie    4500\n",
       "Lorenzo Valitutto        4301\n",
       "Ciro Vitiello            4189\n",
       "Name: from, dtype: int64"
      ]
     },
     "execution_count": 37,
     "metadata": {},
     "output_type": "execute_result"
    }
   ],
   "source": [
    "df['from'].value_counts()"
   ]
  },
  {
   "cell_type": "code",
   "execution_count": 18,
   "id": "896e4b84",
   "metadata": {},
   "outputs": [
    {
     "data": {
      "text/plain": [
       "array([2, 4, 0, 1, 3])"
      ]
     },
     "execution_count": 18,
     "metadata": {},
     "output_type": "execute_result"
    }
   ],
   "source": [
    "from sklearn.preprocessing import LabelEncoder\n",
    "le = LabelEncoder()\n",
    "df['from_enc'] = le.fit_transform(df['from'])\n",
    "#le.classes_\n",
    "df['from_enc'].unique()"
   ]
  },
  {
   "cell_type": "code",
   "execution_count": 22,
   "id": "69a25de0",
   "metadata": {},
   "outputs": [],
   "source": [
    "X = df.drop([\"from\", \"textlen\", \"from_enc\"], axis=1)\n",
    "y = df[\"from_enc\"]"
   ]
  },
  {
   "cell_type": "code",
   "execution_count": 23,
   "id": "6bb93275",
   "metadata": {},
   "outputs": [],
   "source": [
    "#Hyperparameters\n",
    "\n",
    "#Logistics Regression\n",
    "logreg_C = 1.0\n",
    "\n",
    "#SVM\n",
    "SVC_C = 1.0\n",
    "\n",
    "#XGBoost\n",
    "xgb_max_depth = 7\n",
    "xgb_n_estimators = 200\n",
    "xgb_colsample_bytree = 0.8\n",
    "xgb_subsample = 0.8\n",
    "xgb_nthread = 10\n",
    "xgb_learning_rate = 0.1\n",
    "\n",
    "# Neural net hyperparameters\n",
    "NUMBER_OF_CLASSES = len(set(y))\n",
    "NUMBER_OF_EPOCHS = 5\n",
    "activation = \"relu\"\n",
    "dropout = 0.2\n",
    "recurrent_dropout = 0.3\n",
    "batch_size = 64\n",
    "layer_size = 300\n",
    "optimizer = 'adam'"
   ]
  },
  {
   "cell_type": "code",
   "execution_count": 24,
   "id": "a3f94ab9",
   "metadata": {},
   "outputs": [],
   "source": [
    "it_stopwords_file = open(\"stopwords-it.txt\", \"r\", encoding=\"UTF-8\")\n",
    "data = it_stopwords_file.read()\n",
    "stopwords_it = data.replace('\\n', ' ').split(\" \") \n",
    "it_stopwords_file.close()"
   ]
  },
  {
   "cell_type": "code",
   "execution_count": 25,
   "id": "55a984f8",
   "metadata": {},
   "outputs": [],
   "source": [
    "from sklearn.feature_extraction.text import TfidfVectorizer, CountVectorizer\n",
    "ctv_analyzer = \"word\"\n",
    "ctv_ngram_range = (1, 3)\n",
    "ctv_stopwords = stopwords_it\n",
    "ctv = CountVectorizer(analyzer=ctv_analyzer,token_pattern=r'\\w{1,}',\n",
    "            ngram_range=ctv_ngram_range, stop_words=ctv_stopwords)\n",
    "\n",
    "# Fitting Count Vectorizer to both training and test sets (semi-supervised learning)\n",
    "ctv.fit(list(X[\"text\"]))\n",
    "xtrain_ctv =  ctv.transform(X[\"text\"])"
   ]
  },
  {
   "cell_type": "code",
   "execution_count": 26,
   "id": "efbacc33",
   "metadata": {},
   "outputs": [],
   "source": [
    "from sklearn.linear_model import LogisticRegression\n",
    "models = [\n",
    "    (\"Logistics Regression\", LogisticRegression(C=logreg_C))\n",
    "]\n",
    "\n",
    "\n",
    "feature_sets = {\n",
    "    \"CTV\" : {\n",
    "        \"train\": xtrain_ctv,\n",
    "    }\n",
    "}"
   ]
  },
  {
   "cell_type": "code",
   "execution_count": 27,
   "id": "88142ff7",
   "metadata": {},
   "outputs": [],
   "source": [
    "from sklearn import metrics\n",
    "import tensorflow as tf\n",
    "#funzione per stampare metriche modelli tramite metrics di sklearn\n",
    "def sklearn_metrics(clf, xvalid, yvalid, clf_name=\"\", featureset_name=\"\"):\n",
    "    predictions_prob = clf.predict_proba(xvalid)\n",
    "    predictions = clf.predict(xvalid)\n",
    "\n",
    "    print(f\"logloss: {metrics.log_loss(yvalid, predictions_prob)}\")\n",
    "    print(\"Report:\")\n",
    "    print(metrics.classification_report(yvalid,predictions))\n",
    "    accuracy = metrics.accuracy_score(yvalid, predictions)\n",
    "    cm = metrics.confusion_matrix(yvalid, predictions)\n",
    "    disp = metrics.ConfusionMatrixDisplay(cm, display_labels=le.classes_)\n",
    "    disp.plot()\n",
    "    disp.ax_.set_title(f\"{clf_name}\\nFeatures: {featureset_name}\\nAccuracy: {accuracy}\")"
   ]
  },
  {
   "cell_type": "code",
   "execution_count": 28,
   "id": "4c1dfe78",
   "metadata": {},
   "outputs": [
    {
     "name": "stdout",
     "output_type": "stream",
     "text": [
      "----------------------------------------------------------------------------------------------------------------------------------------------------------------\n",
      "* Training: Logistics Regression\n",
      "____________________________________________________________\n",
      "\t***** Using feature set: {'train': <21990x79904 sparse matrix of type '<class 'numpy.int64'>'\n",
      "\twith 133893 stored elements in Compressed Sparse Row format>}\n"
     ]
    },
    {
     "name": "stderr",
     "output_type": "stream",
     "text": [
      "c:\\Users\\simon\\PycharmProjects\\ml-app-salaryprediction\\venv\\lib\\site-packages\\sklearn\\linear_model\\_logistic.py:814: ConvergenceWarning: lbfgs failed to converge (status=1):\n",
      "STOP: TOTAL NO. of ITERATIONS REACHED LIMIT.\n",
      "\n",
      "Increase the number of iterations (max_iter) or scale the data as shown in:\n",
      "    https://scikit-learn.org/stable/modules/preprocessing.html\n",
      "Please also refer to the documentation for alternative solver options:\n",
      "    https://scikit-learn.org/stable/modules/linear_model.html#logistic-regression\n",
      "  n_iter_i = _check_optimize_result(\n"
     ]
    },
    {
     "data": {
      "text/plain": [
       "LogisticRegression()"
      ]
     },
     "execution_count": 28,
     "metadata": {},
     "output_type": "execute_result"
    }
   ],
   "source": [
    "\n",
    "model_name = models[0][0]\n",
    "model = models[0][1]\n",
    "print(\"----\"*40)\n",
    "print(f\"* Training: {model_name}\")\n",
    "print(\"___\"*20)\n",
    "print(f\"\\t***** Using feature set: {feature_sets['CTV']}\")\n",
    "model.fit(feature_sets['CTV'][\"train\"], y)"
   ]
  },
  {
   "cell_type": "code",
   "execution_count": 29,
   "id": "f926b347",
   "metadata": {},
   "outputs": [
    {
     "name": "stdout",
     "output_type": "stream",
     "text": [
      "logloss: 0.6108331110951649\n",
      "Report:\n",
      "              precision    recall  f1-score   support\n",
      "\n",
      "           0       0.91      0.90      0.90      4500\n",
      "           1       0.89      0.87      0.88      4189\n",
      "           2       0.81      0.90      0.85      4500\n",
      "           3       0.90      0.88      0.89      4301\n",
      "           4       0.95      0.89      0.92      4500\n",
      "\n",
      "    accuracy                           0.89     21990\n",
      "   macro avg       0.89      0.89      0.89     21990\n",
      "weighted avg       0.89      0.89      0.89     21990\n",
      "\n"
     ]
    },
    {
     "data": {
      "image/png": "[encoded data removed]",
      "text/plain": [
       "<Figure size 432x288 with 2 Axes>"
      ]
     },
     "metadata": {
      "needs_background": "light"
     },
     "output_type": "display_data"
    }
   ],
   "source": [
    "sklearn_metrics(model, feature_sets['CTV'][\"train\"], y, clf_name=model_name, featureset_name=\"ctv\")"
   ]
  },
  {
   "cell_type": "code",
   "execution_count": 30,
   "id": "c947101a",
   "metadata": {},
   "outputs": [
    {
     "data": {
      "text/plain": [
       "'Ciao ragazzi come state?'"
      ]
     },
     "execution_count": 30,
     "metadata": {},
     "output_type": "execute_result"
    }
   ],
   "source": [
    "# country, edlevel, yearscode\n",
    "X = \"Ciao ragazzi come state?\"\n",
    "X"
   ]
  },
  {
   "cell_type": "code",
   "execution_count": 31,
   "id": "914062f3",
   "metadata": {},
   "outputs": [],
   "source": [
    "X = ctv.transform([X])"
   ]
  },
  {
   "cell_type": "code",
   "execution_count": 32,
   "id": "258d1fab",
   "metadata": {},
   "outputs": [
    {
     "data": {
      "text/plain": [
       "array(['Giuseppe Perrotta'], dtype=object)"
      ]
     },
     "execution_count": 32,
     "metadata": {},
     "output_type": "execute_result"
    }
   ],
   "source": [
    "y_pred = model.predict(X)\n",
    "le.inverse_transform([2])"
   ]
  },
  {
   "cell_type": "code",
   "execution_count": 33,
   "id": "a1203e5c",
   "metadata": {},
   "outputs": [],
   "source": [
    "import pickle"
   ]
  },
  {
   "cell_type": "code",
   "execution_count": 35,
   "id": "6fc64774",
   "metadata": {},
   "outputs": [],
   "source": [
    "data = {\"model\": model, \"le\": le, \"ctv\": ctv}\n",
    "with open('saved_steps.pkl', 'wb') as file:\n",
    "    pickle.dump(data, file)"
   ]
  },
  {
   "cell_type": "code",
   "execution_count": 36,
   "id": "6aefe42c",
   "metadata": {},
   "outputs": [],
   "source": [
    "with open('saved_steps.pkl', 'rb') as file:\n",
    "    data = pickle.load(file)\n",
    "\n",
    "model_loaded = data[\"model\"]\n",
    "le = data[\"le\"]\n",
    "ctv = data[\"ctv\"]"
   ]
  },
  {
   "cell_type": "code",
   "execution_count": 37,
   "id": "eeb1983b",
   "metadata": {},
   "outputs": [
    {
     "data": {
      "text/plain": [
       "array([2])"
      ]
     },
     "execution_count": 37,
     "metadata": {},
     "output_type": "execute_result"
    }
   ],
   "source": [
    "y_pred = model_loaded.predict(X)\n",
    "y_pred"
   ]
  }
 ],
 "metadata": {
  "interpreter": {
   "hash": "497aaa5cf2df58865cc1130b0f092b7e63a2e282c2bb7e6927e789b1357cb278"
  },
  "kernelspec": {
   "display_name": "ml",
   "language": "python",
   "name": "python3"
  },
  "language_info": {
   "codemirror_mode": {
    "name": "ipython",
    "version": 3
   },
   "file_extension": ".py",
   "mimetype": "text/x-python",
   "name": "python",
   "nbconvert_exporter": "python",
   "pygments_lexer": "ipython3",
   "version": "3.8.10"
  }
 },
 "nbformat": 4,
 "nbformat_minor": 5
}
